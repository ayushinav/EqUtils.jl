{
 "cells": [
  {
   "cell_type": "code",
   "execution_count": 103,
   "id": "869a0923-b8cb-4617-991e-2b19870e3441",
   "metadata": {},
   "outputs": [],
   "source": [
    "using Plots\n",
    "using HDF5\n",
    "Float= Float64\n",
    "include(\"utils_bp.jl\");"
   ]
  },
  {
   "cell_type": "code",
   "execution_count": 102,
   "id": "4954c0e8-f330-4226-a00b-d7388f797b50",
   "metadata": {},
   "outputs": [],
   "source": [
    "dx= 10; dy= 10; \n",
    "limx= 500; limy= 500; # km\n",
    "dT= 0.5; dt= 0.5;\n",
    "nt= 801;\n",
    "Tgrid = range(-50, 200, step= dT);\n",
    "nT= length(Tgrid)\n",
    "\n",
    "zgrid = Float.([0])\n",
    "ygrid = Float.(range(-limy, stop=limy, step=dy))\n",
    "xgrid = Float.(range(-limx, stop=limx, step=dx))\n",
    "mgrid= [zgrid, ygrid, xgrid, Tgrid];\n",
    "# rgrid= [rz, ry, rx];\n",
    "nz, ny, nx, nT= length.(mgrid)\n",
    "Tshift= Int.(round.(Tgrid./dt));"
   ]
  },
  {
   "cell_type": "code",
   "execution_count": 5,
   "id": "39bad668-2bf0-453a-8a0b-af0d88a7c121",
   "metadata": {},
   "outputs": [],
   "source": [
    "d0= 100000.\n",
    "v0= 8.0;"
   ]
  },
  {
   "cell_type": "code",
   "execution_count": 90,
   "id": "e893d2b4-b785-4429-bd94-c5a63c5bc3a0",
   "metadata": {},
   "outputs": [
    {
     "name": "stderr",
     "output_type": "stream",
     "text": [
      "┌ Info: Loading the grid data for chl1 from the loaded dataset in the saved directory.\n",
      "└ @ Main /home/abhinav/workspace/utils_bp.jl:27\n"
     ]
    }
   ],
   "source": [
    "eq= \"chl1\";\n",
    "cntr, _, _, _, _, _, _= obspy_data(eq, \"/home/abhinav/workspace/Bp_eq_data_processed\", \"/mnt/data2/isha/unique_pwin33_traces/\");"
   ]
  },
  {
   "cell_type": "code",
   "execution_count": 14,
   "id": "40ac10e6-f35b-430b-8cb8-a2eabf907760",
   "metadata": {},
   "outputs": [
    {
     "name": "stderr",
     "output_type": "stream",
     "text": [
      "┌ Info: Loading the grid data for chl1 from the loaded dataset in the saved directory.\n",
      "└ @ Main /home/abhinav/workspace/utils_bp.jl:27\n"
     ]
    }
   ],
   "source": [
    "# Synthetics\n",
    "eq= \"point_inv\"\n",
    "\n",
    "f= h5open(\"results/\"*eq*\".h5\", \"r\")\n",
    "img= read(f[\"chl1\"]);\n",
    "close(f)\n",
    "cntr, _, _, _, _, _, _= obspy_data(\"chl1\", \"/home/abhinav/workspace/Bp_eq_data_processed\", \"/mnt/data2/isha/unique_pwin33_traces/\");"
   ]
  },
  {
   "cell_type": "code",
   "execution_count": 91,
   "id": "3beaed87-b969-4999-bf49-39e2e10b447f",
   "metadata": {},
   "outputs": [
    {
     "data": {
      "text/plain": [
       "get_gif (generic function with 1 method)"
      ]
     },
     "execution_count": 91,
     "metadata": {},
     "output_type": "execute_result"
    }
   ],
   "source": [
    "function get_gif(img)\n",
    "    lim= maximum(extrema(img))\n",
    "    anim= @animate for i in 1:nT\n",
    "        heatmap(xgrid./111 .+cntr[2], ygrid./111 .+ cntr[1], img[1,:,:,i], yflip= false, title= string(Tgrid[i]), \n",
    "            clims= (0, lim), c=:seismic, aspect= 1, size= (200, 200),\n",
    "            xlabel= \"East ->\", ylabel= \"North ->\"\n",
    "        )\n",
    "    end\n",
    "    # images come out right with yflip=true, implies algorithm is working fine. We need yflip= false to get north pointing upwards (ygrid= -limy: dy: limy)\n",
    "    return anim\n",
    "end"
   ]
  },
  {
   "cell_type": "code",
   "execution_count": 100,
   "id": "a73c085f-db96-4282-9c90-0adb01b95bf5",
   "metadata": {},
   "outputs": [
    {
     "data": {
      "text/plain": [
       "get_timesteps (generic function with 1 method)"
      ]
     },
     "execution_count": 100,
     "metadata": {},
     "output_type": "execute_result"
    }
   ],
   "source": [
    "function get_timesteps(img, tstamps)\n",
    "    lim= maximum(extrema(img));\n",
    "    p= [];\n",
    "        for i in tstamps\n",
    "            p1= heatmap(xgrid./111 .+cntr[2], ygrid./111 .+ cntr[1], img[1,:,:,i], yflip= false, title= string(Tgrid[i]), \n",
    "            clims= (-lim, lim), c=:seismic, cbar= false, yticks= false);\n",
    "            # scatter!(p1, [cntr[2]],[cntr[1]], ms=0, grid=true, label= false)\n",
    "            # xlabel= \"East ->\", ylabel= \"North ->\"); #, size= (400,400));\n",
    "            if i== tstamps[1] || i== tstamps[length(tstamps)÷2+1]\n",
    "                plot!(p1, yticks= true)\n",
    "            end\n",
    "            push!(p, p1);\n",
    "        end\n",
    "    \n",
    "    pc= scatter([0,0], [0,1], xlims= (1,1.1), clims= (-lim, lim), \n",
    "        cbar= true, yshowaxis= false, xshowaxis= false, yticks= false, \n",
    "        xticks= false, label= false, c=:seismic, zcolor= [0,3]);\n",
    "    push!(p, pc);\n",
    "    peak_amp= [maximum(img[:,:,:,iT]) for iT in 1:nT];;\n",
    "    pt= plot(Tgrid, peak_amp, label= \"peak amplitude\", xlabel= \"time wrt origin (s)\")\n",
    "    push!(p, pt);\n",
    "    layed= @layout [[grid(2,length(tstamps)÷2) a{0.1w}]\n",
    "    b{0.3h}]\n",
    "    plt= plot(p..., layout= layed, size= (1200, 800), guidefontsize= 10)\n",
    "end"
   ]
  },
  {
   "cell_type": "code",
   "execution_count": 101,
   "id": "9fbf6712-c67f-4c09-a8dc-9a17f935e5ea",
   "metadata": {},
   "outputs": [
    {
     "name": "stderr",
     "output_type": "stream",
     "text": [
      "GKS: Rectangle definition is invalid in routine SET_VIEWPORT\n"
     ]
    }
   ],
   "source": [
    "tstamps= range(start= 71, step= 10, length= 8)\n",
    "p= plot_result(img, tstamps)\n",
    "savefig(\"view_results/\"*eq*\".png\")"
   ]
  }
 ],
 "metadata": {
  "kernelspec": {
   "display_name": "Julia 1.7.2",
   "language": "julia",
   "name": "julia-1.7"
  },
  "language_info": {
   "file_extension": ".jl",
   "mimetype": "application/julia",
   "name": "julia",
   "version": "1.7.2"
  }
 },
 "nbformat": 4,
 "nbformat_minor": 5
}
