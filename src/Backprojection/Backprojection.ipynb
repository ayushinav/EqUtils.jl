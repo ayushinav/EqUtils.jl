{
 "cells": [
  {
   "cell_type": "code",
   "execution_count": 1,
   "id": "ac05af86-cfd1-48f5-b07f-abbe45843b9b",
   "metadata": {
    "tags": []
   },
   "outputs": [],
   "source": [
    "using Plots\n",
    "using SpecialFunctions\n",
    "using LinearAlgebra\n",
    "using FFTW\n",
    "# using StaticArrays\n",
    "# using CUDA\n",
    "using GPUArrays\n",
    "using BenchmarkTools\n",
    "using Optim\n",
    "using Statistics\n",
    "# using LinearMaps\n",
    "# using IterativeSolvers\n",
    "using Test\n",
    "using ProgressMeter\n",
    "using HDF5\n",
    "using Printf\n",
    "using Flux\n",
    "using ParallelStencil\n",
    "@init_parallel_stencil(CUDA, Float64, 3)"
   ]
  },
  {
   "cell_type": "code",
   "execution_count": 2,
   "id": "aeb4efa2-2e53-4e9b-a570-50be050fc9d4",
   "metadata": {},
   "outputs": [],
   "source": [
    "# Parallel_Stencil\n",
    "Float= Float64;\n",
    "Int= Int32;\n",
    "# Flux\n",
    "xpu= gpu;"
   ]
  },
  {
   "cell_type": "code",
   "execution_count": 3,
   "id": "597eb535-8933-42cb-89ce-c3432c182bf7",
   "metadata": {},
   "outputs": [],
   "source": [
    "include(\"wavelets.jl\")\n",
    "include(\"Synthetics.jl\")\n",
    "include(\"utils_bp.jl\");"
   ]
  },
  {
   "cell_type": "code",
   "execution_count": 4,
   "id": "b168b73e-310e-41cf-9c80-ee96aa395a3e",
   "metadata": {},
   "outputs": [],
   "source": [
    "# Time grid\n",
    "nt = 800\n",
    "dt= 0.5\n",
    "fmax= 0.25/dt\n",
    "tgrid = Float.(range(-200, stop=200, step= dt)); # time samples from -200, 200 seconds\n",
    "nt= length(tgrid)\n",
    "\n",
    "# Freq grid\n",
    "# fgrid= FFTW.rfftfreq(nt);\n",
    "# nf= length(fgrid);"
   ]
  },
  {
   "cell_type": "code",
   "execution_count": 5,
   "id": "c3ed63a6-eb84-4773-828c-ef3babbb7813",
   "metadata": {},
   "outputs": [],
   "source": [
    "# Ricker not here"
   ]
  },
  {
   "cell_type": "markdown",
   "id": "ae8b6912-58ed-4ca0-8286-9916013ecc6d",
   "metadata": {},
   "source": [
    "## Source and receiver grids"
   ]
  },
  {
   "attachments": {
    "5ec448bf-edcc-403f-a1f9-a293d5239ab6.png": {
     "image/png": "[encoded data removed]"
    }
   },
   "cell_type": "markdown",
   "id": "80ce10ba-4618-446a-8c2c-c7b65981fdd5",
   "metadata": {},
   "source": [
    "![image.png](attachment:5ec448bf-edcc-403f-a1f9-a293d5239ab6.png)\n",
    "</br> $\\theta$ is the azimuthal angle varying from $[-\\pi, \\pi]$ and $\\phi$ is the take-off angle from $[-\\pi/2, \\pi/2]$. </br> \n",
    "In our, the axis pointing towards the north will be the reference for $\\theta$, which will be the z-axis in our case, that is, z-axis points towards the north while x-axis points towards the east and y is positive vertically upwards from the earth's surface."
   ]
  },
  {
   "cell_type": "markdown",
   "id": "3d7996f2-b315-40d4-ba7a-8a2035ab85ce",
   "metadata": {},
   "source": [
    "### Receiver grid"
   ]
  },
  {
   "cell_type": "code",
   "execution_count": 6,
   "id": "1a2b4d7b-1b2c-403b-b375-30fcc0e2a30b",
   "metadata": {},
   "outputs": [
    {
     "name": "stderr",
     "output_type": "stream",
     "text": [
      "┌ Info: Loading the grid data for chile from the loaded dataset in the saved directory.\n",
      "└ @ Main /home/abhinav/workspace/EqUtils.jl/src/Backprojection/utils_bp.jl:25\n"
     ]
    }
   ],
   "source": [
    "dir_path= \"/home/abhinav/workspace/Bp/utilities\"\n",
    "load_path= \"wave3/mnt\"\n",
    "\n",
    "eq_grid= \"chile\"\n",
    "\n",
    "cntr, θ, ϕ, travel_times, network= obspy_data(eq_grid, dir_path, load_path);\n",
    "# We are not using travel_times (from PREM) anywhere, except to check for limits for Fraunhofer approximation\n",
    "cntr= polar2cartesian(cntr) # cntr is also not really used anywhere\n",
    "θ= Float.(π/180 .*θ);\n",
    "ϕ= Float.(π/180 .*ϕ);\n",
    "nr= length(θ);"
   ]
  },
  {
   "cell_type": "code",
   "execution_count": 7,
   "id": "3aca8fd4-f16c-48a7-8807-3d9ccfc9bf8b",
   "metadata": {},
   "outputs": [
    {
     "name": "stderr",
     "output_type": "stream",
     "text": [
      "┌ Info: Number of receivers reduced to 123\n",
      "└ @ Main /home/abhinav/workspace/EqUtils.jl/src/Backprojection/utils_bp.jl:163\n"
     ]
    }
   ],
   "source": [
    "# Filter arrays, if needed. Look utils_bp.jl\n",
    "\n",
    "cntr, θ, ϕ, travel_times, network, nr, IDs= get_unique_receivers(cntr, θ, ϕ, travel_times, network, nr);\n",
    "arrays= network;"
   ]
  },
  {
   "cell_type": "markdown",
   "id": "1497a73c-5ede-4d70-9def-300a48931c0b",
   "metadata": {},
   "source": [
    "### Source grid\n",
    "\n",
    "Source grid (Using Fraunhoffer limit): </br>\n",
    "$W^2< L \\lambda$ </br>\n",
    "For peak frequency, we have the lowest width, for homogeneous velocity we have $W^2= ct_0* c/f_p$ </br>=> $W= c(t_{min}/f_p)^{0.5}$ for the lowest width </br>\n",
    "* For $f_p= 0.05 Hz$  ,  $t_{min}= 120 sec$, at </br> $c= 2.5 km/s$, </t> $W \\approx 122 km$ </br>\n",
    "$c= 8.0 km/s$, </t> $W \\approx 391 km$\n",
    "</br></br>\n",
    "* For $f_p= 0.1 Hz$  ,  $t_{min}= 120 sec$, at </br> $c= 2.5 km/s$, </t> $W \\approx 85 km$ </br>\n",
    " $c= 8.0 km/s$, </t> $W \\approx 275 km$"
   ]
  },
  {
   "cell_type": "code",
   "execution_count": 8,
   "id": "a4af5812-35d6-46f4-872a-081fe96cc70f",
   "metadata": {},
   "outputs": [],
   "source": [
    "cz,cy,cx= [0., 0., 0.] #Float.([0.,0.,0.])\n",
    "mcntr= [cz,cy,cx];\n",
    "dx= 5; dz= 5;\n",
    "zgrid = Float.(cz.+ range(-150, stop=150, step=dz))\n",
    "ygrid = Float.(cy.+ [0])\n",
    "xgrid = Float.(cx.+ range(-150, stop=150, step=dx))\n",
    "Tgrid = range(-150, 150, step= 1)\n",
    "mgrid= [zgrid, ygrid, xgrid, Tgrid];\n",
    "rgrid= [θ,ϕ];\n",
    "dT= step(Tgrid)\n",
    "nz, ny, nx, nT= length.(mgrid)\n",
    "\n",
    "Tshift= Int.(round.(Tgrid./dt))\n",
    "v0= 8.000 # km/s Velocity around the source grid for Fraunhofer\n",
    "\n",
    "shift= get_shifts(mgrid, rgrid, v0);"
   ]
  },
  {
   "cell_type": "code",
   "execution_count": 9,
   "id": "9515e735-3475-4b96-889d-3bf3d3b99ea5",
   "metadata": {},
   "outputs": [],
   "source": [
    "include(\"forward.jl\");"
   ]
  },
  {
   "cell_type": "markdown",
   "id": "89394c56-d4b4-4092-a269-e96341541905",
   "metadata": {},
   "source": [
    "### Checks\n",
    "\n",
    "Checks for Fraunhofer approximations, here we **check only for 0.1 Hz**, peak frequency of ricker wavelet used in our case. If you know the peak frequency of your data, you may put that here, otherwise for the `tgrid` we have chosen, it won't be larger than `fmax`"
   ]
  },
  {
   "cell_type": "code",
   "execution_count": 10,
   "id": "86f89dc1-96d7-4a28-8470-851898fe0fde",
   "metadata": {},
   "outputs": [],
   "source": [
    "fp= 0.1;\n",
    "if @isdefined(travel_times)\n",
    "    min_t0= minimum(travel_times);\n",
    "    W= v0*(min_t0/fp)^0.5\n",
    "    if nz*dz > W\n",
    "        @warn(\"Checking for 0.1 Hz, Fraunhofer condition violated in zgrid\"* \n",
    "            \"Fraunhofer condition is valid for \"*string(W)* \" km, or \"* string(W/111)*\" degrees \");\n",
    "    end\n",
    "    if nx*dx > W\n",
    "        @warn(\"Checking for 0.1 Hz, Fraunhofer condition violated in xgrid\"* \n",
    "            \"Fraunhofer condition is valid for \"*string(W)* \" km, or \"* string(W/111)*\" degrees \");\n",
    "    end\n",
    "else\n",
    "    min_t0= 120;\n",
    "    @info(\"Assuming minimum travel time from center to any receiver is 120 s.\")\n",
    "    W= v0*(min_t0/fp)^0.5\n",
    "    if nz*dz > W\n",
    "        @warn(\"Checking for 0.1 Hz, Fraunhofer condition violated in zgrid\"* \n",
    "            \"Fraunhofer condition is valid for \"*string(W)* \" km, or \"* string(W/111)*\" degrees \");\n",
    "    end\n",
    "    if nx*dx > W\n",
    "        @warn(\"Checking for 0.1 Hz, Fraunhofer condition violated in xgrid\"* \n",
    "            \"Fraunhofer condition is valid for \"*string(W)* \" km, or \"* string(W/111)*\" degrees \");\n",
    "    end\n",
    "end"
   ]
  },
  {
   "cell_type": "code",
   "execution_count": 11,
   "id": "fd988971-81b0-4a21-951e-3e1e89f8e8ff",
   "metadata": {},
   "outputs": [],
   "source": [
    "# function source for putting m[sloc...]= 1, and get "
   ]
  },
  {
   "cell_type": "code",
   "execution_count": 12,
   "id": "b2a03a8f-ec06-4212-8f8f-06806b04b7e4",
   "metadata": {},
   "outputs": [
    {
     "data": {
      "text/plain": [
       "ricker (generic function with 1 method)"
      ]
     },
     "execution_count": 12,
     "metadata": {},
     "output_type": "execute_result"
    }
   ],
   "source": [
    "ricker(t)= rick(0.1, t)"
   ]
  },
  {
   "cell_type": "markdown",
   "id": "525aa740-88c8-43a1-8216-eaf2b20f985d",
   "metadata": {
    "tags": [],
    "toc-hr-collapsed": true
   },
   "source": [
    "## Synthetics"
   ]
  },
  {
   "cell_type": "code",
   "execution_count": 13,
   "id": "3a87bd27-c71c-4e94-b424-d2a6acd15e8a",
   "metadata": {},
   "outputs": [
    {
     "ename": "LoadError",
     "evalue": "InterruptException:",
     "output_type": "error",
     "traceback": [
      "InterruptException:",
      "",
      "Stacktrace:",
      "    [1] throw_api_error(res::CUDA.cudaError_enum)",
      "      @ CUDA ~/.julia/packages/CUDA/Uurn4/lib/cudadrv/error.jl:88",
      "    [2] macro expansion",
      "      @ ~/.julia/packages/CUDA/Uurn4/lib/cudadrv/error.jl:101 [inlined]",
      "    [3] cuDevicePrimaryCtxRetain",
      "      @ ~/.julia/packages/CUDA/Uurn4/lib/utils/call.jl:26 [inlined]",
      "    [4] CuContext",
      "      @ ~/.julia/packages/CUDA/Uurn4/lib/cudadrv/context.jl:57 [inlined]",
      "    [5] context(dev::CUDA.CuDevice)",
      "      @ CUDA ~/.julia/packages/CUDA/Uurn4/lib/cudadrv/state.jl:222",
      "    [6] TaskLocalState (repeats 2 times)",
      "      @ ~/.julia/packages/CUDA/Uurn4/lib/cudadrv/state.jl:50 [inlined]",
      "    [7] task_local_state!()",
      "      @ CUDA ~/.julia/packages/CUDA/Uurn4/lib/cudadrv/state.jl:73",
      "    [8] prepare_cuda_state",
      "      @ ~/.julia/packages/CUDA/Uurn4/lib/cudadrv/state.jl:88 [inlined]",
      "    [9] initialize_context",
      "      @ ~/.julia/packages/CUDA/Uurn4/lib/cudadrv/error.jl:80 [inlined]",
      "   [10] macro expansion",
      "      @ ~/.julia/packages/CUDA/Uurn4/lib/cudadrv/libcuda.jl:344 [inlined]",
      "   [11] macro expansion",
      "      @ ~/.julia/packages/CUDA/Uurn4/lib/cudadrv/error.jl:97 [inlined]",
      "   [12] cuMemGetInfo_v2(free::Base.RefValue{UInt64}, total::Base.RefValue{UInt64})",
      "      @ CUDA ~/.julia/packages/CUDA/Uurn4/lib/utils/call.jl:26",
      "   [13] info",
      "      @ ~/.julia/packages/CUDA/Uurn4/lib/cudadrv/memory.jl:754 [inlined]",
      "   [14] CUDA.MemoryInfo()",
      "      @ CUDA ~/.julia/packages/CUDA/Uurn4/src/pool.jl:145",
      "   [15] OutOfGPUMemoryError (repeats 2 times)",
      "      @ ~/.julia/packages/CUDA/Uurn4/src/pool.jl:198 [inlined]",
      "   [16] throw_api_error(res::CUDA.cudaError_enum)",
      "      @ CUDA ~/.julia/packages/CUDA/Uurn4/lib/cudadrv/error.jl:89",
      "--- the last 15 lines are repeated 184 more times ---",
      " [2777] macro expansion",
      "      @ ~/.julia/packages/CUDA/Uurn4/lib/cudadrv/error.jl:101 [inlined]",
      " [2778] cuDevicePrimaryCtxRetain",
      "      @ ~/.julia/packages/CUDA/Uurn4/lib/utils/call.jl:26 [inlined]",
      " [2779] CuContext",
      "      @ ~/.julia/packages/CUDA/Uurn4/lib/cudadrv/context.jl:57 [inlined]",
      " [2780] context(dev::CUDA.CuDevice)",
      "      @ CUDA ~/.julia/packages/CUDA/Uurn4/lib/cudadrv/state.jl:222",
      " [2781] TaskLocalState (repeats 2 times)",
      "      @ ~/.julia/packages/CUDA/Uurn4/lib/cudadrv/state.jl:50 [inlined]",
      " [2782] task_local_state!()",
      "      @ CUDA ~/.julia/packages/CUDA/Uurn4/lib/cudadrv/state.jl:73",
      " [2783] active_state",
      "      @ ~/.julia/packages/CUDA/Uurn4/lib/cudadrv/state.jl:106 [inlined]",
      " [2784] #_alloc#204",
      "      @ ~/.julia/packages/CUDA/Uurn4/src/pool.jl:300 [inlined]",
      " [2785] #alloc#203",
      "      @ ~/.julia/packages/CUDA/Uurn4/src/pool.jl:290 [inlined]",
      " [2786] alloc",
      "      @ ~/.julia/packages/CUDA/Uurn4/src/pool.jl:286 [inlined]",
      " [2787] CUDA.CuArray{Float32, 2, CUDA.Mem.DeviceBuffer}(#unused#::UndefInitializer, dims::Tuple{Int64, Int64})",
      "      @ CUDA ~/.julia/packages/CUDA/Uurn4/src/array.jl:42",
      " [2788] CuArray",
      "      @ ~/.julia/packages/CUDA/Uurn4/src/array.jl:287 [inlined]",
      " [2789] adapt_storage(#unused#::CUDA.CuArrayAdaptor{CUDA.Mem.DeviceBuffer}, xs::Matrix{Float64})",
      "      @ CUDA ~/.julia/packages/CUDA/Uurn4/src/array.jl:535",
      " [2790] adapt_structure",
      "      @ ~/.julia/packages/Adapt/wASZA/src/Adapt.jl:42 [inlined]",
      " [2791] adapt",
      "      @ ~/.julia/packages/Adapt/wASZA/src/Adapt.jl:40 [inlined]",
      " [2792] #cu#227",
      "      @ ~/.julia/packages/CUDA/Uurn4/src/array.jl:545 [inlined]",
      " [2793] cu",
      "      @ ~/.julia/packages/CUDA/Uurn4/src/array.jl:545 [inlined]",
      " [2794] adapt_storage",
      "      @ ~/.julia/packages/Flux/18YZE/src/functor.jl:89 [inlined]",
      " [2795] adapt_structure",
      "      @ ~/.julia/packages/Adapt/wASZA/src/Adapt.jl:42 [inlined]",
      " [2796] adapt",
      "      @ ~/.julia/packages/Adapt/wASZA/src/Adapt.jl:40 [inlined]",
      " [2797] #182",
      "      @ ~/.julia/packages/Flux/18YZE/src/functor.jl:182 [inlined]",
      " [2798] fmap(f::Flux.var\"#182#183\", x::Matrix{Float64}; exclude::typeof(Flux._isleaf), walk::typeof(Functors._default_walk), cache::IdDict{Any, Any}, prune::Functors.NoKeyword)",
      "      @ Functors ~/.julia/packages/Functors/qBIlC/src/functor.jl:50",
      " [2799] gpu(x::Matrix{Float64})",
      "      @ Flux ~/.julia/packages/Flux/18YZE/src/functor.jl:182",
      " [2800] top-level scope",
      "      @ In[13]:1",
      " [2801] eval",
      "      @ ./boot.jl:373 [inlined]"
     ]
    }
   ],
   "source": [
    "dobs= xpu(zeros(nt, nr));"
   ]
  },
  {
   "cell_type": "code",
   "execution_count": 14,
   "id": "7743cbf9-cc07-4370-9650-ee88ed003b8a",
   "metadata": {},
   "outputs": [
    {
     "ename": "LoadError",
     "evalue": "InterruptException:",
     "output_type": "error",
     "traceback": [
      "InterruptException:",
      "",
      "Stacktrace:",
      "    [1] throw_api_error(res::CUDA.cudaError_enum)",
      "      @ CUDA ~/.julia/packages/CUDA/Uurn4/lib/cudadrv/error.jl:88",
      "    [2] macro expansion",
      "      @ ~/.julia/packages/CUDA/Uurn4/lib/cudadrv/error.jl:101 [inlined]",
      "    [3] cuDevicePrimaryCtxRetain",
      "      @ ~/.julia/packages/CUDA/Uurn4/lib/utils/call.jl:26 [inlined]",
      "    [4] CuContext",
      "      @ ~/.julia/packages/CUDA/Uurn4/lib/cudadrv/context.jl:57 [inlined]",
      "    [5] context(dev::CUDA.CuDevice)",
      "      @ CUDA ~/.julia/packages/CUDA/Uurn4/lib/cudadrv/state.jl:222",
      "    [6] TaskLocalState (repeats 2 times)",
      "      @ ~/.julia/packages/CUDA/Uurn4/lib/cudadrv/state.jl:50 [inlined]",
      "    [7] task_local_state!()",
      "      @ CUDA ~/.julia/packages/CUDA/Uurn4/lib/cudadrv/state.jl:73",
      "    [8] prepare_cuda_state",
      "      @ ~/.julia/packages/CUDA/Uurn4/lib/cudadrv/state.jl:88 [inlined]",
      "    [9] initialize_context",
      "      @ ~/.julia/packages/CUDA/Uurn4/lib/cudadrv/error.jl:80 [inlined]",
      "   [10] macro expansion",
      "      @ ~/.julia/packages/CUDA/Uurn4/lib/cudadrv/libcuda.jl:344 [inlined]",
      "   [11] macro expansion",
      "      @ ~/.julia/packages/CUDA/Uurn4/lib/cudadrv/error.jl:97 [inlined]",
      "   [12] cuMemGetInfo_v2(free::Base.RefValue{UInt64}, total::Base.RefValue{UInt64})",
      "      @ CUDA ~/.julia/packages/CUDA/Uurn4/lib/utils/call.jl:26",
      "   [13] info",
      "      @ ~/.julia/packages/CUDA/Uurn4/lib/cudadrv/memory.jl:754 [inlined]",
      "   [14] CUDA.MemoryInfo()",
      "      @ CUDA ~/.julia/packages/CUDA/Uurn4/src/pool.jl:145",
      "   [15] OutOfGPUMemoryError (repeats 2 times)",
      "      @ ~/.julia/packages/CUDA/Uurn4/src/pool.jl:198 [inlined]",
      "   [16] throw_api_error(res::CUDA.cudaError_enum)",
      "      @ CUDA ~/.julia/packages/CUDA/Uurn4/lib/cudadrv/error.jl:89",
      "--- the last 15 lines are repeated 122 more times ---",
      " [1847] macro expansion",
      "      @ ~/.julia/packages/CUDA/Uurn4/lib/cudadrv/error.jl:101 [inlined]",
      " [1848] cuDevicePrimaryCtxRetain",
      "      @ ~/.julia/packages/CUDA/Uurn4/lib/utils/call.jl:26 [inlined]",
      " [1849] CuContext",
      "      @ ~/.julia/packages/CUDA/Uurn4/lib/cudadrv/context.jl:57 [inlined]",
      " [1850] context(dev::CUDA.CuDevice)",
      "      @ CUDA ~/.julia/packages/CUDA/Uurn4/lib/cudadrv/state.jl:222",
      " [1851] TaskLocalState (repeats 2 times)",
      "      @ ~/.julia/packages/CUDA/Uurn4/lib/cudadrv/state.jl:50 [inlined]",
      " [1852] task_local_state!()",
      "      @ CUDA ~/.julia/packages/CUDA/Uurn4/lib/cudadrv/state.jl:73",
      " [1853] active_state",
      "      @ ~/.julia/packages/CUDA/Uurn4/lib/cudadrv/state.jl:106 [inlined]",
      " [1854] #_alloc#204",
      "      @ ~/.julia/packages/CUDA/Uurn4/src/pool.jl:300 [inlined]",
      " [1855] #alloc#203",
      "      @ ~/.julia/packages/CUDA/Uurn4/src/pool.jl:290 [inlined]",
      " [1856] alloc",
      "      @ ~/.julia/packages/CUDA/Uurn4/src/pool.jl:286 [inlined]",
      " [1857] CUDA.CuArray{Float32, 2, CUDA.Mem.DeviceBuffer}(#unused#::UndefInitializer, dims::Tuple{Int64, Int64})",
      "      @ CUDA ~/.julia/packages/CUDA/Uurn4/src/array.jl:42",
      " [1858] CuArray",
      "      @ ~/.julia/packages/CUDA/Uurn4/src/array.jl:287 [inlined]",
      " [1859] adapt_storage(#unused#::CUDA.CuArrayAdaptor{CUDA.Mem.DeviceBuffer}, xs::Matrix{Float64})",
      "      @ CUDA ~/.julia/packages/CUDA/Uurn4/src/array.jl:535",
      " [1860] adapt_structure",
      "      @ ~/.julia/packages/Adapt/wASZA/src/Adapt.jl:42 [inlined]",
      " [1861] adapt",
      "      @ ~/.julia/packages/Adapt/wASZA/src/Adapt.jl:40 [inlined]",
      " [1862] #cu#227",
      "      @ ~/.julia/packages/CUDA/Uurn4/src/array.jl:545 [inlined]",
      " [1863] cu",
      "      @ ~/.julia/packages/CUDA/Uurn4/src/array.jl:545 [inlined]",
      " [1864] adapt_storage",
      "      @ ~/.julia/packages/Flux/18YZE/src/functor.jl:89 [inlined]",
      " [1865] adapt_structure",
      "      @ ~/.julia/packages/Adapt/wASZA/src/Adapt.jl:42 [inlined]",
      " [1866] adapt",
      "      @ ~/.julia/packages/Adapt/wASZA/src/Adapt.jl:40 [inlined]",
      " [1867] #182",
      "      @ ~/.julia/packages/Flux/18YZE/src/functor.jl:182 [inlined]",
      " [1868] fmap(f::Flux.var\"#182#183\", x::Matrix{Float64}; exclude::typeof(Flux._isleaf), walk::typeof(Functors._default_walk), cache::IdDict{Any, Any}, prune::Functors.NoKeyword)",
      "      @ Functors ~/.julia/packages/Functors/qBIlC/src/functor.jl:50",
      " [1869] gpu",
      "      @ ~/.julia/packages/Flux/18YZE/src/functor.jl:182 [inlined]",
      " [1870] |>(x::Matrix{Float64}, f::typeof(gpu))",
      "      @ Base ./operators.jl:966",
      " [1871] top-level scope",
      "      @ In[14]:1",
      " [1872] eval",
      "      @ ./boot.jl:373 [inlined]"
     ]
    }
   ],
   "source": [
    "dobs= zeros(nt, nr) |>xpu;"
   ]
  },
  {
   "cell_type": "code",
   "execution_count": 14,
   "id": "2d671953-a3dd-4f7f-acb8-97e27c9314c6",
   "metadata": {},
   "outputs": [
    {
     "ename": "LoadError",
     "evalue": "UndefVarError: source! not defined",
     "output_type": "error",
     "traceback": [
      "UndefVarError: source! not defined",
      "",
      "Stacktrace:",
      " [1] top-level scope",
      "   @ ./timing.jl:220 [inlined]",
      " [2] top-level scope",
      "   @ ./In[14]:0",
      " [3] eval",
      "   @ ./boot.jl:373 [inlined]",
      " [4] include_string(mapexpr::typeof(REPL.softscope), mod::Module, code::String, filename::String)",
      "   @ Base ./loading.jl:1196"
     ]
    }
   ],
   "source": [
    "@time source!(dobs, mgrid, rgrid, v0, mcntr, 11, 1, 55, 101);# Int.(zloc), Int.(yloc), Int.(xloc), Int.(idels));"
   ]
  },
  {
   "cell_type": "code",
   "execution_count": 15,
   "id": "f606d6ae-eaf4-4d6a-8439-af341673c3b3",
   "metadata": {},
   "outputs": [
    {
     "ename": "LoadError",
     "evalue": "UndefVarError: cpu not defined",
     "output_type": "error",
     "traceback": [
      "UndefVarError: cpu not defined",
      "",
      "Stacktrace:",
      " [1] top-level scope",
      "   @ In[15]:1",
      " [2] eval",
      "   @ ./boot.jl:373 [inlined]",
      " [3] include_string(mapexpr::typeof(REPL.softscope), mod::Module, code::String, filename::String)",
      "   @ Base ./loading.jl:1196"
     ]
    }
   ],
   "source": [
    "heatmap(cpu(dobs), yflip= true)"
   ]
  },
  {
   "cell_type": "markdown",
   "id": "67777d82-c5cd-4a19-a699-035022ffb150",
   "metadata": {},
   "source": [
    "## Real\n",
    "\n",
    "Load real data into (nt,nr) array"
   ]
  },
  {
   "cell_type": "markdown",
   "id": "4de8f250-2887-40dd-a823-5cc99eae5180",
   "metadata": {},
   "source": [
    "## G and G'"
   ]
  },
  {
   "cell_type": "code",
   "execution_count": 16,
   "id": "e8ea945c-9d55-4dfc-80b3-1ba0094e93ae",
   "metadata": {},
   "outputs": [
    {
     "ename": "LoadError",
     "evalue": "UndefVarError: xpu not defined",
     "output_type": "error",
     "traceback": [
      "UndefVarError: xpu not defined",
      "",
      "Stacktrace:",
      " [1] top-level scope",
      "   @ In[16]:1",
      " [2] eval",
      "   @ ./boot.jl:373 [inlined]",
      " [3] include_string(mapexpr::typeof(REPL.softscope), mod::Module, code::String, filename::String)",
      "   @ Base ./loading.jl:1196"
     ]
    }
   ],
   "source": [
    "rickg= fill(Float(0.), nt, 1, 1, 1, 1, 1) |>xpu; # ricker\n",
    "# fg= fill(0 .+ im*0., nf, 1, 1,1,1,1)|>xpu; # fgrid\n",
    "shiftg= fill(Int(0), 1, nr, nz, ny, nx, 1)|>xpu; # time shifts\n",
    "Tshiftg= fill(Int(0), 1,1,1,1,1,nT)|>xpu; #time shits for temporal domain"
   ]
  },
  {
   "cell_type": "code",
   "execution_count": 17,
   "id": "a21ee0fc-3da7-400c-a634-ada85d9b749b",
   "metadata": {},
   "outputs": [
    {
     "ename": "LoadError",
     "evalue": "LoadError: UndefVarError: @allowscalar not defined\nin expression starting at In[17]:1",
     "output_type": "error",
     "traceback": [
      "LoadError: UndefVarError: @allowscalar not defined\nin expression starting at In[17]:1",
      "",
      "Stacktrace:",
      " [1] top-level scope",
      "   @ :0",
      " [2] eval",
      "   @ ./boot.jl:373 [inlined]",
      " [3] include_string(mapexpr::typeof(REPL.softscope), mod::Module, code::String, filename::String)",
      "   @ Base ./loading.jl:1196"
     ]
    }
   ],
   "source": [
    "@allowscalar copyto!(view(rickg, :, 1, 1, 1, 1, 1), ricker.(tgrid))# ;FFTW.rfft(r));\n",
    "# @allowscalar copyto!(view(fg, :, 1, 1, 1, 1, 1), fgrid);\n",
    "@allowscalar copyto!(view(shiftg, 1 , :, :, :, :, 1), permutedims(shift, [4, 1, 2, 3]));\n",
    "@allowscalar copyto!(view(Tshiftg, 1, 1, 1, 1, 1, :), Tshift);"
   ]
  },
  {
   "cell_type": "code",
   "execution_count": 18,
   "id": "5ca0991f-0e9e-4a12-8aba-93d92a5eca83",
   "metadata": {},
   "outputs": [
    {
     "ename": "LoadError",
     "evalue": "UndefVarError: shiftg not defined",
     "output_type": "error",
     "traceback": [
      "UndefVarError: shiftg not defined",
      "",
      "Stacktrace:",
      " [1] top-level scope",
      "   @ In[18]:1",
      " [2] eval",
      "   @ ./boot.jl:373 [inlined]",
      " [3] include_string(mapexpr::typeof(REPL.softscope), mod::Module, code::String, filename::String)",
      "   @ Base ./loading.jl:1196"
     ]
    }
   ],
   "source": [
    "delay= broadcast(+, shiftg, Tshiftg);\n",
    "(lb, ub)= extrema(tgrid)./dt .+ extrema(cpu(delay));\n",
    "\n",
    "exp_tgrid= Float.(dt.*(lb:ub));#range(lb,ub, step= dt);\n",
    "rick0= Float.(ricker.(exp_tgrid)) |>xpu;"
   ]
  },
  {
   "cell_type": "code",
   "execution_count": 19,
   "id": "9454293c-bf44-4d50-83d3-fc5acc50f6c6",
   "metadata": {},
   "outputs": [
    {
     "ename": "LoadError",
     "evalue": "UndefVarError: nr not defined",
     "output_type": "error",
     "traceback": [
      "UndefVarError: nr not defined",
      "",
      "Stacktrace:",
      " [1] top-level scope",
      "   @ In[19]:1",
      " [2] eval",
      "   @ ./boot.jl:373 [inlined]",
      " [3] include_string(mapexpr::typeof(REPL.softscope), mod::Module, code::String, filename::String)",
      "   @ Base ./loading.jl:1196"
     ]
    }
   ],
   "source": [
    "dg= zeros(Float, nt, nr) |>xpu;\n",
    "mg= zeros(Float, nz, ny, nx, nT) |>xpu;"
   ]
  },
  {
   "cell_type": "code",
   "execution_count": 20,
   "id": "226517f9-e909-475e-bbb9-094ae689dbdf",
   "metadata": {},
   "outputs": [
    {
     "ename": "LoadError",
     "evalue": "LoadError: UndefVarError: @allowscalar not defined\nin expression starting at In[20]:1",
     "output_type": "error",
     "traceback": [
      "LoadError: UndefVarError: @allowscalar not defined\nin expression starting at In[20]:1",
      "",
      "Stacktrace:",
      " [1] top-level scope",
      "   @ :0",
      " [2] eval",
      "   @ ./boot.jl:373 [inlined]",
      " [3] include_string(mapexpr::typeof(REPL.softscope), mod::Module, code::String, filename::String)",
      "   @ Base ./loading.jl:1196"
     ]
    }
   ],
   "source": [
    "@allowscalar mg[11, 1, 55, 101]= 1.;"
   ]
  },
  {
   "cell_type": "code",
   "execution_count": 21,
   "id": "c5da5d08-8d62-4445-b411-0f1b0309be8a",
   "metadata": {},
   "outputs": [],
   "source": [
    "G!(d,m)= G_ps!(d, m, delay, nt, nr, nz, ny, nx, nT, rick0, mvec, dvec, Int(abs(lb)));\n",
    "Gt!(grad, ∇d)= Gt_ps!(grad, ∇d, delay, nt, nr, nz, ny, nx, nT, rick0, g2, grvec, ddvec, Int(abs(lb)));"
   ]
  },
  {
   "cell_type": "code",
   "execution_count": 22,
   "id": "df52d17d-986e-4cd8-89be-c4beb2739df9",
   "metadata": {},
   "outputs": [
    {
     "ename": "LoadError",
     "evalue": "UndefVarError: dg not defined",
     "output_type": "error",
     "traceback": [
      "UndefVarError: dg not defined",
      "",
      "Stacktrace:",
      " [1] top-level scope",
      "   @ ./timing.jl:220 [inlined]",
      " [2] top-level scope",
      "   @ ./In[22]:0",
      " [3] eval",
      "   @ ./boot.jl:373 [inlined]",
      " [4] include_string(mapexpr::typeof(REPL.softscope), mod::Module, code::String, filename::String)",
      "   @ Base ./loading.jl:1196"
     ]
    }
   ],
   "source": [
    "@time G!(dg, mg);"
   ]
  },
  {
   "cell_type": "code",
   "execution_count": 23,
   "id": "d80c3606-4793-4615-b4e3-1304fe74c728",
   "metadata": {},
   "outputs": [
    {
     "ename": "LoadError",
     "evalue": "UndefVarError: cpu not defined",
     "output_type": "error",
     "traceback": [
      "UndefVarError: cpu not defined",
      "",
      "Stacktrace:",
      " [1] top-level scope",
      "   @ In[23]:1",
      " [2] eval",
      "   @ ./boot.jl:373 [inlined]",
      " [3] include_string(mapexpr::typeof(REPL.softscope), mod::Module, code::String, filename::String)",
      "   @ Base ./loading.jl:1196"
     ]
    }
   ],
   "source": [
    "heatmap(cpu(dg), yflip= true)"
   ]
  },
  {
   "cell_type": "code",
   "execution_count": 24,
   "id": "33f7fa34-bffd-4025-a389-70b07788b51f",
   "metadata": {},
   "outputs": [
    {
     "ename": "LoadError",
     "evalue": "UndefVarError: nz not defined",
     "output_type": "error",
     "traceback": [
      "UndefVarError: nz not defined",
      "",
      "Stacktrace:",
      " [1] top-level scope",
      "   @ In[24]:1",
      " [2] eval",
      "   @ ./boot.jl:373 [inlined]",
      " [3] include_string(mapexpr::typeof(REPL.softscope), mod::Module, code::String, filename::String)",
      "   @ Base ./loading.jl:1196"
     ]
    }
   ],
   "source": [
    "grad= zeros(nz,ny,nx,nT) |>xpu;"
   ]
  },
  {
   "cell_type": "code",
   "execution_count": 25,
   "id": "6d15099c-a1b1-4ebb-8901-49988f52a27f",
   "metadata": {},
   "outputs": [
    {
     "ename": "LoadError",
     "evalue": "UndefVarError: grad not defined",
     "output_type": "error",
     "traceback": [
      "UndefVarError: grad not defined",
      "",
      "Stacktrace:",
      " [1] top-level scope",
      "   @ In[25]:1",
      " [2] eval",
      "   @ ./boot.jl:373 [inlined]",
      " [3] include_string(mapexpr::typeof(REPL.softscope), mod::Module, code::String, filename::String)",
      "   @ Base ./loading.jl:1196"
     ]
    }
   ],
   "source": [
    "Gt!(grad, dobs);"
   ]
  },
  {
   "cell_type": "code",
   "execution_count": 26,
   "id": "66bab619-cdd4-4bd0-82f7-9db89ef94fdc",
   "metadata": {},
   "outputs": [
    {
     "ename": "LoadError",
     "evalue": "LoadError: UndefVarError: @animate not defined\nin expression starting at In[26]:2",
     "output_type": "error",
     "traceback": [
      "LoadError: UndefVarError: @animate not defined\nin expression starting at In[26]:2",
      "",
      "Stacktrace:",
      " [1] top-level scope",
      "   @ :0",
      " [2] eval",
      "   @ ./boot.jl:373 [inlined]",
      " [3] include_string(mapexpr::typeof(REPL.softscope), mod::Module, code::String, filename::String)",
      "   @ Base ./loading.jl:1196"
     ]
    }
   ],
   "source": [
    "#anim= Plots.Animation()\n",
    "anim= @animate for i in 1:nT\n",
    "    heatmap(xgrid, zgrid, real.(cpu(grad)[:,1,:,i]), yflip= true, title= string(i), clims= (0.8 *minimum(real.(cpu(grad))), 1.2*maximum(real.(cpu(grad)))))\n",
    "end"
   ]
  },
  {
   "cell_type": "code",
   "execution_count": 27,
   "id": "870b3c59-22e1-41ef-b92c-fce775e5949d",
   "metadata": {},
   "outputs": [
    {
     "ename": "LoadError",
     "evalue": "UndefVarError: gif not defined",
     "output_type": "error",
     "traceback": [
      "UndefVarError: gif not defined",
      "",
      "Stacktrace:",
      " [1] top-level scope",
      "   @ In[27]:1",
      " [2] eval",
      "   @ ./boot.jl:373 [inlined]",
      " [3] include_string(mapexpr::typeof(REPL.softscope), mod::Module, code::String, filename::String)",
      "   @ Base ./loading.jl:1196"
     ]
    }
   ],
   "source": [
    "gif(anim)"
   ]
  },
  {
   "cell_type": "code",
   "execution_count": null,
   "id": "b11fd224-3c82-4b3e-96ce-f031b7e55cd4",
   "metadata": {},
   "outputs": [],
   "source": []
  },
  {
   "cell_type": "code",
   "execution_count": null,
   "id": "ff34f9cf-8b74-47e8-bbd2-8328e7dfef9a",
   "metadata": {},
   "outputs": [],
   "source": []
  }
 ],
 "metadata": {
  "kernelspec": {
   "display_name": "Julia 1.7.2",
   "language": "julia",
   "name": "julia-1.7"
  },
  "language_info": {
   "file_extension": ".jl",
   "mimetype": "application/julia",
   "name": "julia",
   "version": "1.7.2"
  }
 },
 "nbformat": 4,
 "nbformat_minor": 5
}
